{
 "cells": [
  {
   "cell_type": "markdown",
   "metadata": {},
   "source": [
    "## Predicting STEAM User Engagement"
   ]
  },
  {
   "cell_type": "markdown",
   "metadata": {},
   "source": [
    "### Statement Problem"
   ]
  },
  {
   "cell_type": "markdown",
   "metadata": {},
   "source": [
    "Customer engagement is a measurement of a user's response to the product. By prediciting STEAM video games and user engagement with a predicitive model, I hope to improve user experience and customer engagement to contribute to the success of video games on STEAM. "
   ]
  },
  {
   "cell_type": "markdown",
   "metadata": {},
   "source": [
    "### Data"
   ]
  },
  {
   "cell_type": "markdown",
   "metadata": {},
   "source": [
    "Datasets in data folder are all provided by KAGGLE"
   ]
  },
  {
   "cell_type": "code",
   "execution_count": 1,
   "metadata": {},
   "outputs": [],
   "source": [
    "import pandas as pd\n",
    "import os\n",
    "import glob\n",
    "import numpy as np"
   ]
  },
  {
   "cell_type": "markdown",
   "metadata": {},
   "source": [
    "### CLEANING steam_games1"
   ]
  },
  {
   "cell_type": "code",
   "execution_count": 2,
   "metadata": {},
   "outputs": [],
   "source": [
    "spy = pd.read_csv('./data/data_raw/steamspy_data.csv')\n",
    "steam = pd.read_csv('./data/data_raw/steam.csv')\n",
    "k_200 = pd.read_csv('./data/data_raw/steam-200k.csv')\n",
    "games = pd.read_csv('./data/data_raw/steam_games.csv')\n",
    "app = pd.read_csv('./data/data_raw/steam_app_data.csv')"
   ]
  },
  {
   "cell_type": "code",
   "execution_count": 3,
   "metadata": {},
   "outputs": [
    {
     "name": "stdout",
     "output_type": "stream",
     "text": [
      "Spy Shape: (29235, 20)\n",
      "App Shape: (29235, 39)\n",
      "Steam Shape: (27075, 18)\n",
      "k_200 Shape: (199999, 5)\n",
      "Games Shape: (32711, 10)\n"
     ]
    }
   ],
   "source": [
    "# print out number of rows and columns\n",
    "print('Spy Shape:', spy.shape)\n",
    "print('App Shape:', app.shape)\n",
    "print('Steam Shape:', steam.shape)\n",
    "print('k_200 Shape:', k_200.shape)\n",
    "print('Games Shape:', games.shape)"
   ]
  },
  {
   "cell_type": "code",
   "execution_count": 4,
   "metadata": {},
   "outputs": [
    {
     "data": {
      "text/html": [
       "<div>\n",
       "<style scoped>\n",
       "    .dataframe tbody tr th:only-of-type {\n",
       "        vertical-align: middle;\n",
       "    }\n",
       "\n",
       "    .dataframe tbody tr th {\n",
       "        vertical-align: top;\n",
       "    }\n",
       "\n",
       "    .dataframe thead th {\n",
       "        text-align: right;\n",
       "    }\n",
       "</style>\n",
       "<table border=\"1\" class=\"dataframe\">\n",
       "  <thead>\n",
       "    <tr style=\"text-align: right;\">\n",
       "      <th></th>\n",
       "      <th>type</th>\n",
       "      <th>name</th>\n",
       "      <th>steam_appid</th>\n",
       "      <th>required_age</th>\n",
       "      <th>is_free</th>\n",
       "      <th>controller_support</th>\n",
       "      <th>dlc</th>\n",
       "      <th>detailed_description</th>\n",
       "      <th>about_the_game</th>\n",
       "      <th>short_description</th>\n",
       "      <th>...</th>\n",
       "      <th>categories</th>\n",
       "      <th>genres</th>\n",
       "      <th>screenshots</th>\n",
       "      <th>movies</th>\n",
       "      <th>recommendations</th>\n",
       "      <th>achievements</th>\n",
       "      <th>release_date</th>\n",
       "      <th>support_info</th>\n",
       "      <th>background</th>\n",
       "      <th>content_descriptors</th>\n",
       "    </tr>\n",
       "  </thead>\n",
       "  <tbody>\n",
       "    <tr>\n",
       "      <th>0</th>\n",
       "      <td>game</td>\n",
       "      <td>Counter-Strike</td>\n",
       "      <td>10</td>\n",
       "      <td>0.0</td>\n",
       "      <td>False</td>\n",
       "      <td>NaN</td>\n",
       "      <td>NaN</td>\n",
       "      <td>Play the world's number 1 online action game. ...</td>\n",
       "      <td>Play the world's number 1 online action game. ...</td>\n",
       "      <td>Play the world's number 1 online action game. ...</td>\n",
       "      <td>...</td>\n",
       "      <td>[{'id': 1, 'description': 'Multi-player'}, {'i...</td>\n",
       "      <td>[{'id': '1', 'description': 'Action'}]</td>\n",
       "      <td>[{'id': 0, 'path_thumbnail': 'https://steamcdn...</td>\n",
       "      <td>NaN</td>\n",
       "      <td>{'total': 65735}</td>\n",
       "      <td>{'total': 0}</td>\n",
       "      <td>{'coming_soon': False, 'date': '1 Nov, 2000'}</td>\n",
       "      <td>{'url': 'http://steamcommunity.com/app/10', 'e...</td>\n",
       "      <td>https://steamcdn-a.akamaihd.net/steam/apps/10/...</td>\n",
       "      <td>{'ids': [2, 5], 'notes': 'Includes intense vio...</td>\n",
       "    </tr>\n",
       "    <tr>\n",
       "      <th>1</th>\n",
       "      <td>game</td>\n",
       "      <td>Team Fortress Classic</td>\n",
       "      <td>20</td>\n",
       "      <td>0.0</td>\n",
       "      <td>False</td>\n",
       "      <td>NaN</td>\n",
       "      <td>NaN</td>\n",
       "      <td>One of the most popular online action games of...</td>\n",
       "      <td>One of the most popular online action games of...</td>\n",
       "      <td>One of the most popular online action games of...</td>\n",
       "      <td>...</td>\n",
       "      <td>[{'id': 1, 'description': 'Multi-player'}, {'i...</td>\n",
       "      <td>[{'id': '1', 'description': 'Action'}]</td>\n",
       "      <td>[{'id': 0, 'path_thumbnail': 'https://steamcdn...</td>\n",
       "      <td>NaN</td>\n",
       "      <td>{'total': 2802}</td>\n",
       "      <td>{'total': 0}</td>\n",
       "      <td>{'coming_soon': False, 'date': '1 Apr, 1999'}</td>\n",
       "      <td>{'url': '', 'email': ''}</td>\n",
       "      <td>https://steamcdn-a.akamaihd.net/steam/apps/20/...</td>\n",
       "      <td>{'ids': [2, 5], 'notes': 'Includes intense vio...</td>\n",
       "    </tr>\n",
       "  </tbody>\n",
       "</table>\n",
       "<p>2 rows × 39 columns</p>\n",
       "</div>"
      ],
      "text/plain": [
       "   type                   name  steam_appid  required_age is_free  \\\n",
       "0  game         Counter-Strike           10           0.0   False   \n",
       "1  game  Team Fortress Classic           20           0.0   False   \n",
       "\n",
       "  controller_support  dlc                               detailed_description  \\\n",
       "0                NaN  NaN  Play the world's number 1 online action game. ...   \n",
       "1                NaN  NaN  One of the most popular online action games of...   \n",
       "\n",
       "                                      about_the_game  \\\n",
       "0  Play the world's number 1 online action game. ...   \n",
       "1  One of the most popular online action games of...   \n",
       "\n",
       "                                   short_description  ...  \\\n",
       "0  Play the world's number 1 online action game. ...  ...   \n",
       "1  One of the most popular online action games of...  ...   \n",
       "\n",
       "                                          categories  \\\n",
       "0  [{'id': 1, 'description': 'Multi-player'}, {'i...   \n",
       "1  [{'id': 1, 'description': 'Multi-player'}, {'i...   \n",
       "\n",
       "                                   genres  \\\n",
       "0  [{'id': '1', 'description': 'Action'}]   \n",
       "1  [{'id': '1', 'description': 'Action'}]   \n",
       "\n",
       "                                         screenshots movies   recommendations  \\\n",
       "0  [{'id': 0, 'path_thumbnail': 'https://steamcdn...    NaN  {'total': 65735}   \n",
       "1  [{'id': 0, 'path_thumbnail': 'https://steamcdn...    NaN   {'total': 2802}   \n",
       "\n",
       "   achievements                                   release_date  \\\n",
       "0  {'total': 0}  {'coming_soon': False, 'date': '1 Nov, 2000'}   \n",
       "1  {'total': 0}  {'coming_soon': False, 'date': '1 Apr, 1999'}   \n",
       "\n",
       "                                        support_info  \\\n",
       "0  {'url': 'http://steamcommunity.com/app/10', 'e...   \n",
       "1                           {'url': '', 'email': ''}   \n",
       "\n",
       "                                          background  \\\n",
       "0  https://steamcdn-a.akamaihd.net/steam/apps/10/...   \n",
       "1  https://steamcdn-a.akamaihd.net/steam/apps/20/...   \n",
       "\n",
       "                                 content_descriptors  \n",
       "0  {'ids': [2, 5], 'notes': 'Includes intense vio...  \n",
       "1  {'ids': [2, 5], 'notes': 'Includes intense vio...  \n",
       "\n",
       "[2 rows x 39 columns]"
      ]
     },
     "execution_count": 4,
     "metadata": {},
     "output_type": "execute_result"
    }
   ],
   "source": [
    "app.head(2)"
   ]
  },
  {
   "cell_type": "code",
   "execution_count": 5,
   "metadata": {},
   "outputs": [],
   "source": [
    "null_values = app.isnull().sum()"
   ]
  },
  {
   "cell_type": "code",
   "execution_count": 6,
   "metadata": {},
   "outputs": [
    {
     "name": "stdout",
     "output_type": "stream",
     "text": [
      "Columns to drop: ['controller_support', 'dlc', 'fullgame', 'legal_notice', 'drm_notice', 'ext_user_account_notice', 'demos', 'metacritic', 'reviews', 'recommendations']\n"
     ]
    }
   ],
   "source": [
    "threshold = len(app) * .4\n",
    "drop_rows = app.columns[null_values > threshold]\n",
    "\n",
    "print('Columns to drop: {}'.format(list(drop_rows)))"
   ]
  },
  {
   "cell_type": "code",
   "execution_count": 7,
   "metadata": {},
   "outputs": [],
   "source": [
    "app.drop(columns=['controller_support', 'dlc', 'fullgame', 'legal_notice', 'drm_notice', 'ext_user_account_notice', 'demos', 'metacritic', 'reviews', 'recommendations'], inplace=True)"
   ]
  },
  {
   "cell_type": "code",
   "execution_count": 8,
   "metadata": {},
   "outputs": [
    {
     "data": {
      "text/plain": [
       "type                     object\n",
       "name                     object\n",
       "steam_appid               int64\n",
       "required_age            float64\n",
       "is_free                  object\n",
       "detailed_description     object\n",
       "about_the_game           object\n",
       "short_description        object\n",
       "supported_languages      object\n",
       "header_image             object\n",
       "website                  object\n",
       "pc_requirements          object\n",
       "mac_requirements         object\n",
       "linux_requirements       object\n",
       "developers               object\n",
       "publishers               object\n",
       "price_overview           object\n",
       "packages                 object\n",
       "package_groups           object\n",
       "platforms                object\n",
       "categories               object\n",
       "genres                   object\n",
       "screenshots              object\n",
       "movies                   object\n",
       "achievements             object\n",
       "release_date             object\n",
       "support_info             object\n",
       "background               object\n",
       "content_descriptors      object\n",
       "dtype: object"
      ]
     },
     "execution_count": 8,
     "metadata": {},
     "output_type": "execute_result"
    }
   ],
   "source": [
    "app.dtypes"
   ]
  },
  {
   "cell_type": "code",
   "execution_count": 9,
   "metadata": {},
   "outputs": [
    {
     "name": "stdout",
     "output_type": "stream",
     "text": [
      "Duplicate rows to remove: 7\n"
     ]
    },
    {
     "data": {
      "text/html": [
       "<div>\n",
       "<style scoped>\n",
       "    .dataframe tbody tr th:only-of-type {\n",
       "        vertical-align: middle;\n",
       "    }\n",
       "\n",
       "    .dataframe tbody tr th {\n",
       "        vertical-align: top;\n",
       "    }\n",
       "\n",
       "    .dataframe thead th {\n",
       "        text-align: right;\n",
       "    }\n",
       "</style>\n",
       "<table border=\"1\" class=\"dataframe\">\n",
       "  <thead>\n",
       "    <tr style=\"text-align: right;\">\n",
       "      <th></th>\n",
       "      <th>type</th>\n",
       "      <th>name</th>\n",
       "      <th>steam_appid</th>\n",
       "      <th>required_age</th>\n",
       "      <th>is_free</th>\n",
       "      <th>detailed_description</th>\n",
       "      <th>about_the_game</th>\n",
       "      <th>short_description</th>\n",
       "      <th>supported_languages</th>\n",
       "      <th>header_image</th>\n",
       "      <th>...</th>\n",
       "      <th>platforms</th>\n",
       "      <th>categories</th>\n",
       "      <th>genres</th>\n",
       "      <th>screenshots</th>\n",
       "      <th>movies</th>\n",
       "      <th>achievements</th>\n",
       "      <th>release_date</th>\n",
       "      <th>support_info</th>\n",
       "      <th>background</th>\n",
       "      <th>content_descriptors</th>\n",
       "    </tr>\n",
       "  </thead>\n",
       "  <tbody>\n",
       "    <tr>\n",
       "      <th>31</th>\n",
       "      <td>game</td>\n",
       "      <td>SiN Episodes: Emergence</td>\n",
       "      <td>1300</td>\n",
       "      <td>0.0</td>\n",
       "      <td>False</td>\n",
       "      <td>You are John Blade, commander of HardCorps, an...</td>\n",
       "      <td>You are John Blade, commander of HardCorps, an...</td>\n",
       "      <td>You are John Blade, commander of HardCorps, an...</td>\n",
       "      <td>English, Russian, French</td>\n",
       "      <td>https://steamcdn-a.akamaihd.net/steam/apps/130...</td>\n",
       "      <td>...</td>\n",
       "      <td>{'windows': True, 'mac': False, 'linux': False}</td>\n",
       "      <td>[{'id': 2, 'description': 'Single-player'}, {'...</td>\n",
       "      <td>[{'id': '1', 'description': 'Action'}]</td>\n",
       "      <td>[{'id': 0, 'path_thumbnail': 'https://steamcdn...</td>\n",
       "      <td>NaN</td>\n",
       "      <td>{'total': 0}</td>\n",
       "      <td>{'coming_soon': False, 'date': '10 May, 2006'}</td>\n",
       "      <td>{'url': '', 'email': ''}</td>\n",
       "      <td>https://steamcdn-a.akamaihd.net/steam/apps/130...</td>\n",
       "      <td>{'ids': [], 'notes': None}</td>\n",
       "    </tr>\n",
       "    <tr>\n",
       "      <th>32</th>\n",
       "      <td>game</td>\n",
       "      <td>SiN Episodes: Emergence</td>\n",
       "      <td>1300</td>\n",
       "      <td>0.0</td>\n",
       "      <td>False</td>\n",
       "      <td>You are John Blade, commander of HardCorps, an...</td>\n",
       "      <td>You are John Blade, commander of HardCorps, an...</td>\n",
       "      <td>You are John Blade, commander of HardCorps, an...</td>\n",
       "      <td>English, Russian, French</td>\n",
       "      <td>https://steamcdn-a.akamaihd.net/steam/apps/130...</td>\n",
       "      <td>...</td>\n",
       "      <td>{'windows': True, 'mac': False, 'linux': False}</td>\n",
       "      <td>[{'id': 2, 'description': 'Single-player'}, {'...</td>\n",
       "      <td>[{'id': '1', 'description': 'Action'}]</td>\n",
       "      <td>[{'id': 0, 'path_thumbnail': 'https://steamcdn...</td>\n",
       "      <td>NaN</td>\n",
       "      <td>{'total': 0}</td>\n",
       "      <td>{'coming_soon': False, 'date': '10 May, 2006'}</td>\n",
       "      <td>{'url': '', 'email': ''}</td>\n",
       "      <td>https://steamcdn-a.akamaihd.net/steam/apps/130...</td>\n",
       "      <td>{'ids': [], 'notes': None}</td>\n",
       "    </tr>\n",
       "  </tbody>\n",
       "</table>\n",
       "<p>2 rows × 29 columns</p>\n",
       "</div>"
      ],
      "text/plain": [
       "    type                     name  steam_appid  required_age is_free  \\\n",
       "31  game  SiN Episodes: Emergence         1300           0.0   False   \n",
       "32  game  SiN Episodes: Emergence         1300           0.0   False   \n",
       "\n",
       "                                 detailed_description  \\\n",
       "31  You are John Blade, commander of HardCorps, an...   \n",
       "32  You are John Blade, commander of HardCorps, an...   \n",
       "\n",
       "                                       about_the_game  \\\n",
       "31  You are John Blade, commander of HardCorps, an...   \n",
       "32  You are John Blade, commander of HardCorps, an...   \n",
       "\n",
       "                                    short_description  \\\n",
       "31  You are John Blade, commander of HardCorps, an...   \n",
       "32  You are John Blade, commander of HardCorps, an...   \n",
       "\n",
       "         supported_languages  \\\n",
       "31  English, Russian, French   \n",
       "32  English, Russian, French   \n",
       "\n",
       "                                         header_image  ...  \\\n",
       "31  https://steamcdn-a.akamaihd.net/steam/apps/130...  ...   \n",
       "32  https://steamcdn-a.akamaihd.net/steam/apps/130...  ...   \n",
       "\n",
       "                                          platforms  \\\n",
       "31  {'windows': True, 'mac': False, 'linux': False}   \n",
       "32  {'windows': True, 'mac': False, 'linux': False}   \n",
       "\n",
       "                                           categories  \\\n",
       "31  [{'id': 2, 'description': 'Single-player'}, {'...   \n",
       "32  [{'id': 2, 'description': 'Single-player'}, {'...   \n",
       "\n",
       "                                    genres  \\\n",
       "31  [{'id': '1', 'description': 'Action'}]   \n",
       "32  [{'id': '1', 'description': 'Action'}]   \n",
       "\n",
       "                                          screenshots movies  achievements  \\\n",
       "31  [{'id': 0, 'path_thumbnail': 'https://steamcdn...    NaN  {'total': 0}   \n",
       "32  [{'id': 0, 'path_thumbnail': 'https://steamcdn...    NaN  {'total': 0}   \n",
       "\n",
       "                                      release_date              support_info  \\\n",
       "31  {'coming_soon': False, 'date': '10 May, 2006'}  {'url': '', 'email': ''}   \n",
       "32  {'coming_soon': False, 'date': '10 May, 2006'}  {'url': '', 'email': ''}   \n",
       "\n",
       "                                           background  \\\n",
       "31  https://steamcdn-a.akamaihd.net/steam/apps/130...   \n",
       "32  https://steamcdn-a.akamaihd.net/steam/apps/130...   \n",
       "\n",
       "           content_descriptors  \n",
       "31  {'ids': [], 'notes': None}  \n",
       "32  {'ids': [], 'notes': None}  \n",
       "\n",
       "[2 rows x 29 columns]"
      ]
     },
     "execution_count": 9,
     "metadata": {},
     "output_type": "execute_result"
    }
   ],
   "source": [
    "# Check for duplicated rows\n",
    "duplicated_rows = app[app.duplicated()]\n",
    "\n",
    "print('Duplicate rows to remove:', duplicated_rows.shape[0])\n",
    "\n",
    "duplicated_rows.head(2)"
   ]
  },
  {
   "cell_type": "code",
   "execution_count": 10,
   "metadata": {},
   "outputs": [],
   "source": [
    "app = app.drop_duplicates()"
   ]
  },
  {
   "cell_type": "code",
   "execution_count": 11,
   "metadata": {},
   "outputs": [],
   "source": [
    "app.drop(columns=['header_image', 'website', 'movies', 'achievements', 'support_info', 'background', 'content_descriptors','price_overview', 'packages'], inplace=True)"
   ]
  },
  {
   "cell_type": "code",
   "execution_count": 12,
   "metadata": {},
   "outputs": [
    {
     "data": {
      "text/plain": [
       "type                    149\n",
       "name                      1\n",
       "steam_appid               0\n",
       "required_age            149\n",
       "is_free                 149\n",
       "detailed_description    175\n",
       "about_the_game          175\n",
       "short_description       175\n",
       "supported_languages     163\n",
       "pc_requirements         149\n",
       "mac_requirements        149\n",
       "linux_requirements      149\n",
       "developers              264\n",
       "publishers              149\n",
       "package_groups          149\n",
       "platforms               149\n",
       "categories              714\n",
       "genres                  196\n",
       "screenshots             177\n",
       "release_date            149\n",
       "dtype: int64"
      ]
     },
     "execution_count": 12,
     "metadata": {},
     "output_type": "execute_result"
    }
   ],
   "source": [
    "app.isnull().sum()"
   ]
  },
  {
   "cell_type": "code",
   "execution_count": 13,
   "metadata": {},
   "outputs": [],
   "source": [
    "app = app.rename(columns={'steam_appid':'appid'})"
   ]
  },
  {
   "cell_type": "code",
   "execution_count": 14,
   "metadata": {},
   "outputs": [
    {
     "data": {
      "text/html": [
       "<div>\n",
       "<style scoped>\n",
       "    .dataframe tbody tr th:only-of-type {\n",
       "        vertical-align: middle;\n",
       "    }\n",
       "\n",
       "    .dataframe tbody tr th {\n",
       "        vertical-align: top;\n",
       "    }\n",
       "\n",
       "    .dataframe thead th {\n",
       "        text-align: right;\n",
       "    }\n",
       "</style>\n",
       "<table border=\"1\" class=\"dataframe\">\n",
       "  <thead>\n",
       "    <tr style=\"text-align: right;\">\n",
       "      <th></th>\n",
       "      <th>appid</th>\n",
       "      <th>name</th>\n",
       "      <th>developer</th>\n",
       "      <th>publisher</th>\n",
       "      <th>score_rank</th>\n",
       "      <th>positive</th>\n",
       "      <th>negative</th>\n",
       "      <th>userscore</th>\n",
       "      <th>owners</th>\n",
       "      <th>average_forever</th>\n",
       "      <th>average_2weeks</th>\n",
       "      <th>median_forever</th>\n",
       "      <th>median_2weeks</th>\n",
       "      <th>price</th>\n",
       "      <th>initialprice</th>\n",
       "      <th>discount</th>\n",
       "      <th>languages</th>\n",
       "      <th>genre</th>\n",
       "      <th>ccu</th>\n",
       "      <th>tags</th>\n",
       "    </tr>\n",
       "  </thead>\n",
       "  <tbody>\n",
       "    <tr>\n",
       "      <th>0</th>\n",
       "      <td>10</td>\n",
       "      <td>Counter-Strike</td>\n",
       "      <td>Valve</td>\n",
       "      <td>Valve</td>\n",
       "      <td>NaN</td>\n",
       "      <td>124534</td>\n",
       "      <td>3339</td>\n",
       "      <td>0</td>\n",
       "      <td>10,000,000 .. 20,000,000</td>\n",
       "      <td>17612</td>\n",
       "      <td>709</td>\n",
       "      <td>317</td>\n",
       "      <td>26</td>\n",
       "      <td>999.0</td>\n",
       "      <td>999.0</td>\n",
       "      <td>0.0</td>\n",
       "      <td>English, French, German, Italian, Spanish - Sp...</td>\n",
       "      <td>Action</td>\n",
       "      <td>14923</td>\n",
       "      <td>{'Action': 2681, 'FPS': 2048, 'Multiplayer': 1...</td>\n",
       "    </tr>\n",
       "    <tr>\n",
       "      <th>1</th>\n",
       "      <td>20</td>\n",
       "      <td>Team Fortress Classic</td>\n",
       "      <td>Valve</td>\n",
       "      <td>Valve</td>\n",
       "      <td>NaN</td>\n",
       "      <td>3318</td>\n",
       "      <td>633</td>\n",
       "      <td>0</td>\n",
       "      <td>5,000,000 .. 10,000,000</td>\n",
       "      <td>277</td>\n",
       "      <td>15</td>\n",
       "      <td>62</td>\n",
       "      <td>15</td>\n",
       "      <td>499.0</td>\n",
       "      <td>499.0</td>\n",
       "      <td>0.0</td>\n",
       "      <td>English, French, German, Italian, Spanish - Sp...</td>\n",
       "      <td>Action</td>\n",
       "      <td>87</td>\n",
       "      <td>{'Action': 208, 'FPS': 188, 'Multiplayer': 172...</td>\n",
       "    </tr>\n",
       "  </tbody>\n",
       "</table>\n",
       "</div>"
      ],
      "text/plain": [
       "   appid                   name developer publisher  score_rank  positive  \\\n",
       "0     10         Counter-Strike     Valve     Valve         NaN    124534   \n",
       "1     20  Team Fortress Classic     Valve     Valve         NaN      3318   \n",
       "\n",
       "   negative  userscore                    owners  average_forever  \\\n",
       "0      3339          0  10,000,000 .. 20,000,000            17612   \n",
       "1       633          0   5,000,000 .. 10,000,000              277   \n",
       "\n",
       "   average_2weeks  median_forever  median_2weeks  price  initialprice  \\\n",
       "0             709             317             26  999.0         999.0   \n",
       "1              15              62             15  499.0         499.0   \n",
       "\n",
       "   discount                                          languages   genre    ccu  \\\n",
       "0       0.0  English, French, German, Italian, Spanish - Sp...  Action  14923   \n",
       "1       0.0  English, French, German, Italian, Spanish - Sp...  Action     87   \n",
       "\n",
       "                                                tags  \n",
       "0  {'Action': 2681, 'FPS': 2048, 'Multiplayer': 1...  \n",
       "1  {'Action': 208, 'FPS': 188, 'Multiplayer': 172...  "
      ]
     },
     "execution_count": 14,
     "metadata": {},
     "output_type": "execute_result"
    }
   ],
   "source": [
    "spy.head(2)"
   ]
  },
  {
   "cell_type": "code",
   "execution_count": 15,
   "metadata": {},
   "outputs": [],
   "source": [
    "null_values_spy = spy.isnull().sum()"
   ]
  },
  {
   "cell_type": "code",
   "execution_count": 16,
   "metadata": {},
   "outputs": [
    {
     "name": "stdout",
     "output_type": "stream",
     "text": [
      "Columns to drop: ['score_rank']\n"
     ]
    }
   ],
   "source": [
    "threshold_spy = len(spy) * .4\n",
    "drop_rows_spy = spy.columns[null_values_spy > threshold]\n",
    "\n",
    "print('Columns to drop: {}'.format(list(drop_rows_spy)))"
   ]
  },
  {
   "cell_type": "code",
   "execution_count": 17,
   "metadata": {},
   "outputs": [],
   "source": [
    "spy = spy.drop(columns='score_rank')"
   ]
  },
  {
   "cell_type": "code",
   "execution_count": 18,
   "metadata": {},
   "outputs": [],
   "source": [
    "merged = app.merge(spy, on='appid')"
   ]
  },
  {
   "cell_type": "code",
   "execution_count": 19,
   "metadata": {},
   "outputs": [
    {
     "data": {
      "text/plain": [
       "(29227, 38)"
      ]
     },
     "execution_count": 19,
     "metadata": {},
     "output_type": "execute_result"
    }
   ],
   "source": [
    "merged.shape"
   ]
  },
  {
   "cell_type": "code",
   "execution_count": 20,
   "metadata": {},
   "outputs": [
    {
     "name": "stdout",
     "output_type": "stream",
     "text": [
      "<class 'pandas.core.frame.DataFrame'>\n",
      "Int64Index: 29227 entries, 0 to 29226\n",
      "Data columns (total 38 columns):\n",
      " #   Column                Non-Null Count  Dtype  \n",
      "---  ------                --------------  -----  \n",
      " 0   type                  29078 non-null  object \n",
      " 1   name_x                29226 non-null  object \n",
      " 2   appid                 29227 non-null  int64  \n",
      " 3   required_age          29078 non-null  float64\n",
      " 4   is_free               29078 non-null  object \n",
      " 5   detailed_description  29052 non-null  object \n",
      " 6   about_the_game        29052 non-null  object \n",
      " 7   short_description     29052 non-null  object \n",
      " 8   supported_languages   29064 non-null  object \n",
      " 9   pc_requirements       29078 non-null  object \n",
      " 10  mac_requirements      29078 non-null  object \n",
      " 11  linux_requirements    29078 non-null  object \n",
      " 12  developers            28963 non-null  object \n",
      " 13  publishers            29078 non-null  object \n",
      " 14  package_groups        29078 non-null  object \n",
      " 15  platforms             29078 non-null  object \n",
      " 16  categories            28513 non-null  object \n",
      " 17  genres                29031 non-null  object \n",
      " 18  screenshots           29050 non-null  object \n",
      " 19  release_date          29078 non-null  object \n",
      " 20  name_y                29222 non-null  object \n",
      " 21  developer             29030 non-null  object \n",
      " 22  publisher             28947 non-null  object \n",
      " 23  positive              29227 non-null  int64  \n",
      " 24  negative              29227 non-null  int64  \n",
      " 25  userscore             29227 non-null  int64  \n",
      " 26  owners                29227 non-null  object \n",
      " 27  average_forever       29227 non-null  int64  \n",
      " 28  average_2weeks        29227 non-null  int64  \n",
      " 29  median_forever        29227 non-null  int64  \n",
      " 30  median_2weeks         29227 non-null  int64  \n",
      " 31  price                 29198 non-null  float64\n",
      " 32  initialprice          29205 non-null  float64\n",
      " 33  discount              29205 non-null  float64\n",
      " 34  languages             29133 non-null  object \n",
      " 35  genre                 29075 non-null  object \n",
      " 36  ccu                   29227 non-null  int64  \n",
      " 37  tags                  29227 non-null  object \n",
      "dtypes: float64(4), int64(9), object(25)\n",
      "memory usage: 8.7+ MB\n"
     ]
    }
   ],
   "source": [
    "merged.info()"
   ]
  },
  {
   "cell_type": "code",
   "execution_count": 21,
   "metadata": {},
   "outputs": [],
   "source": [
    "merged.drop(columns=['name_y', 'publisher','developers', 'genres','screenshots', 'supported_languages'], inplace=True)"
   ]
  },
  {
   "cell_type": "code",
   "execution_count": 22,
   "metadata": {},
   "outputs": [],
   "source": [
    "merged.rename(columns={'name_x':'name', 'publishers':'publisher', 'average_forever':'avg_forever', 'average_2weeks':'avg_2_weeks'}, inplace=True)"
   ]
  },
  {
   "cell_type": "code",
   "execution_count": 23,
   "metadata": {},
   "outputs": [],
   "source": [
    "merged = merged.drop_duplicates()"
   ]
  },
  {
   "cell_type": "code",
   "execution_count": 24,
   "metadata": {},
   "outputs": [
    {
     "data": {
      "text/plain": [
       "type                    149\n",
       "name                      1\n",
       "appid                     0\n",
       "required_age            149\n",
       "is_free                 149\n",
       "detailed_description    175\n",
       "about_the_game          175\n",
       "short_description       175\n",
       "supported_languages     163\n",
       "pc_requirements         149\n",
       "mac_requirements        149\n",
       "linux_requirements      149\n",
       "publisher               149\n",
       "package_groups          149\n",
       "platforms               149\n",
       "categories              714\n",
       "screenshots             177\n",
       "release_date            149\n",
       "developer               197\n",
       "positive                  0\n",
       "negative                  0\n",
       "userscore                 0\n",
       "owners                    0\n",
       "avg_forever               0\n",
       "avg_2_weeks               0\n",
       "median_forever            0\n",
       "median_2weeks             0\n",
       "price                    29\n",
       "initialprice             22\n",
       "discount                 22\n",
       "languages                94\n",
       "genre                   152\n",
       "ccu                       0\n",
       "tags                      0\n",
       "dtype: int64"
      ]
     },
     "execution_count": 24,
     "metadata": {},
     "output_type": "execute_result"
    }
   ],
   "source": [
    "merged.isnull().sum()"
   ]
  },
  {
   "cell_type": "code",
   "execution_count": 25,
   "metadata": {},
   "outputs": [
    {
     "data": {
      "text/plain": [
       "game    29078\n",
       "Name: type, dtype: int64"
      ]
     },
     "execution_count": 25,
     "metadata": {},
     "output_type": "execute_result"
    }
   ],
   "source": [
    "merged['type'].value_counts()"
   ]
  },
  {
   "cell_type": "code",
   "execution_count": 26,
   "metadata": {},
   "outputs": [],
   "source": [
    "def clean_objects(df):\n",
    "    df = df[df['type'].notnull()]\n",
    "    df = df[df['name'].notnull()]\n",
    "    df = df[df['name'] != 'none']\n",
    "    df = df.drop('type', axis=1)\n",
    "    return df   \n",
    "merged = clean_objects(merged)"
   ]
  },
  {
   "cell_type": "code",
   "execution_count": 27,
   "metadata": {},
   "outputs": [
    {
     "data": {
      "text/plain": [
       "0.0       28430\n",
       "1.0           1\n",
       "3.0          10\n",
       "4.0           2\n",
       "5.0           1\n",
       "6.0           1\n",
       "7.0           8\n",
       "10.0          3\n",
       "11.0          4\n",
       "12.0         72\n",
       "13.0         21\n",
       "14.0          4\n",
       "15.0         39\n",
       "16.0        141\n",
       "17.0         47\n",
       "18.0        288\n",
       "20.0          1\n",
       "1818.0        1\n",
       "Name: required_age, dtype: int64"
      ]
     },
     "execution_count": 27,
     "metadata": {},
     "output_type": "execute_result"
    }
   ],
   "source": [
    "merged['required_age'].value_counts().sort_index()"
   ]
  },
  {
   "cell_type": "code",
   "execution_count": 28,
   "metadata": {},
   "outputs": [],
   "source": [
    "# Replace what is an obvious error to 18\n",
    "merged = merged.replace(to_replace = 1818.0, value = 18)"
   ]
  },
  {
   "cell_type": "code",
   "execution_count": 29,
   "metadata": {},
   "outputs": [
    {
     "name": "stdout",
     "output_type": "stream",
     "text": [
      "Required Age mean:0.35203274403246887\n",
      "Required Age mode:0    0.0\n",
      "dtype: float64\n"
     ]
    }
   ],
   "source": [
    "mean = merged['required_age'].mean()\n",
    "mode = merged['required_age'].mode()\n",
    "print(f'Required Age mean:{mean}')\n",
    "print(f'Required Age mode:{mode}')"
   ]
  },
  {
   "cell_type": "code",
   "execution_count": 30,
   "metadata": {},
   "outputs": [],
   "source": [
    "merged['required_age'] = merged['required_age'].fillna(0)"
   ]
  },
  {
   "cell_type": "markdown",
   "metadata": {},
   "source": [
    "https://www.internetmatters.org/resources/video-games-age-ratings-explained/\n",
    "ratings in line with ersb rating system\n",
    "everyone, 10+, teen, 18"
   ]
  },
  {
   "cell_type": "code",
   "execution_count": 31,
   "metadata": {},
   "outputs": [],
   "source": [
    "# Code refrence from https://stackoverflow.com/questions/52753613/grouping-categorising-ages-column-in-python-pandas\n",
    "bins = [-1, 0, 3, 7, 12, 16, 20]\n",
    "labels = [0, 3, 7, 12, 16, 18]\n",
    "\n",
    "merged['required_age'] = pd.cut(merged['required_age'], bins=bins, labels=labels)"
   ]
  },
  {
   "cell_type": "code",
   "execution_count": 32,
   "metadata": {},
   "outputs": [
    {
     "data": {
      "text/plain": [
       "0     28430\n",
       "18      337\n",
       "16      205\n",
       "12       79\n",
       "7        12\n",
       "3        11\n",
       "Name: required_age, dtype: int64"
      ]
     },
     "execution_count": 32,
     "metadata": {},
     "output_type": "execute_result"
    }
   ],
   "source": [
    "merged['required_age'].value_counts()"
   ]
  },
  {
   "cell_type": "code",
   "execution_count": 33,
   "metadata": {},
   "outputs": [
    {
     "name": "stdout",
     "output_type": "stream",
     "text": [
      "<class 'pandas.core.frame.DataFrame'>\n",
      "Int64Index: 29074 entries, 0 to 29226\n",
      "Data columns (total 33 columns):\n",
      " #   Column                Non-Null Count  Dtype   \n",
      "---  ------                --------------  -----   \n",
      " 0   name                  29074 non-null  object  \n",
      " 1   appid                 29074 non-null  int64   \n",
      " 2   required_age          29074 non-null  category\n",
      " 3   is_free               29074 non-null  bool    \n",
      " 4   detailed_description  29050 non-null  object  \n",
      " 5   about_the_game        29050 non-null  object  \n",
      " 6   short_description     29050 non-null  object  \n",
      " 7   supported_languages   29061 non-null  object  \n",
      " 8   pc_requirements       29074 non-null  object  \n",
      " 9   mac_requirements      29074 non-null  object  \n",
      " 10  linux_requirements    29074 non-null  object  \n",
      " 11  publisher             29074 non-null  object  \n",
      " 12  package_groups        29074 non-null  object  \n",
      " 13  platforms             29074 non-null  object  \n",
      " 14  categories            28510 non-null  object  \n",
      " 15  screenshots           29050 non-null  object  \n",
      " 16  release_date          29074 non-null  object  \n",
      " 17  developer             28960 non-null  object  \n",
      " 18  positive              29074 non-null  int64   \n",
      " 19  negative              29074 non-null  int64   \n",
      " 20  userscore             29074 non-null  int64   \n",
      " 21  owners                29074 non-null  object  \n",
      " 22  avg_forever           29074 non-null  int64   \n",
      " 23  avg_2_weeks           29074 non-null  int64   \n",
      " 24  median_forever        29074 non-null  int64   \n",
      " 25  median_2weeks         29074 non-null  int64   \n",
      " 26  price                 29073 non-null  float64 \n",
      " 27  initialprice          29073 non-null  float64 \n",
      " 28  discount              29073 non-null  float64 \n",
      " 29  languages             29062 non-null  object  \n",
      " 30  genre                 29005 non-null  object  \n",
      " 31  ccu                   29074 non-null  int64   \n",
      " 32  tags                  29074 non-null  object  \n",
      "dtypes: bool(1), category(1), float64(3), int64(9), object(19)\n",
      "memory usage: 7.2+ MB\n"
     ]
    }
   ],
   "source": [
    "merged.info()"
   ]
  },
  {
   "cell_type": "markdown",
   "metadata": {},
   "source": [
    "## Categories and genres"
   ]
  },
  {
   "cell_type": "code",
   "execution_count": 55,
   "metadata": {},
   "outputs": [
    {
     "data": {
      "text/plain": [
       "Action, Indie                                                                   1971\n",
       "Casual, Indie                                                                   1563\n",
       "Action, Adventure, Indie                                                        1310\n",
       "Adventure, Indie                                                                1228\n",
       "Action, Casual, Indie                                                           1061\n",
       "                                                                                ... \n",
       "Violent, Gore, Action, RPG                                                         1\n",
       "Adventure, Casual, Indie, RPG, Sports                                              1\n",
       "Free to Play, Massively Multiplayer, Sports                                        1\n",
       "Sexual Content, Indie, RPG                                                         1\n",
       "Sexual Content, Violent, Gore, Action, Casual, Free to Play, Indie, Strategy       1\n",
       "Name: genre, Length: 1542, dtype: int64"
      ]
     },
     "execution_count": 55,
     "metadata": {},
     "output_type": "execute_result"
    }
   ],
   "source": [
    "merged['genre'].value_counts()"
   ]
  },
  {
   "cell_type": "code",
   "execution_count": 57,
   "metadata": {},
   "outputs": [
    {
     "data": {
      "text/plain": [
       "26509                 Action, Adventure, Indie\n",
       "4422                                    Casual\n",
       "26348    Casual, Indie, Strategy, Early Access\n",
       "20430         Action, Adventure, Casual, Indie\n",
       "8344                             Casual, Indie\n",
       "Name: genre, dtype: object"
      ]
     },
     "execution_count": 57,
     "metadata": {},
     "output_type": "execute_result"
    }
   ],
   "source": [
    "merged['genre'].sample(5, random_state=5)"
   ]
  },
  {
   "cell_type": "code",
   "execution_count": 58,
   "metadata": {},
   "outputs": [],
   "source": [
    "merged.dropna(subset=['genre'], inplace=True)  "
   ]
  },
  {
   "cell_type": "code",
   "execution_count": 43,
   "metadata": {},
   "outputs": [
    {
     "data": {
      "text/plain": [
       "[{'id': 2, 'description': 'Single-player'}]                                                                                                                                                                                                                                                                                                                                                                                                           6390\n",
       "[{'id': 2, 'description': 'Single-player'}, {'id': 22, 'description': 'Steam Achievements'}]                                                                                                                                                                                                                                                                                                                                                          2478\n",
       "[{'id': 2, 'description': 'Single-player'}, {'id': 22, 'description': 'Steam Achievements'}, {'id': 29, 'description': 'Steam Trading Cards'}]                                                                                                                                                                                                                                                                                                         889\n",
       "[{'id': 2, 'description': 'Single-player'}, {'id': 18, 'description': 'Partial Controller Support'}]                                                                                                                                                                                                                                                                                                                                                   851\n",
       "[{'id': 2, 'description': 'Single-player'}, {'id': 29, 'description': 'Steam Trading Cards'}]                                                                                                                                                                                                                                                                                                                                                          819\n",
       "                                                                                                                                                                                                                                                                                                                                                                                                                                                      ... \n",
       "[{'id': 2, 'description': 'Single-player'}, {'id': 1, 'description': 'Multi-player'}, {'id': 36, 'description': 'Online Multi-Player'}, {'id': 20, 'description': 'MMO'}, {'id': 27, 'description': 'Cross-Platform Multiplayer'}, {'id': 22, 'description': 'Steam Achievements'}, {'id': 35, 'description': 'In-App Purchases'}]                                                                                                                       1\n",
       "[{'id': 2, 'description': 'Single-player'}, {'id': 1, 'description': 'Multi-player'}, {'id': 36, 'description': 'Online Multi-Player'}, {'id': 37, 'description': 'Local Multi-Player'}, {'id': 28, 'description': 'Full controller support'}, {'id': 29, 'description': 'Steam Trading Cards'}]                                                                                                                                                         1\n",
       "[{'id': 2, 'description': 'Single-player'}, {'id': 9, 'description': 'Co-op'}, {'id': 24, 'description': 'Shared/Split Screen'}, {'id': 22, 'description': 'Steam Achievements'}, {'id': 29, 'description': 'Steam Trading Cards'}, {'id': 18, 'description': 'Partial Controller Support'}, {'id': 23, 'description': 'Steam Cloud'}, {'id': 15, 'description': 'Stats'}]                                                                               1\n",
       "[{'id': 37, 'description': 'Local Multi-Player'}, {'id': 18, 'description': 'Partial Controller Support'}]                                                                                                                                                                                                                                                                                                                                               1\n",
       "[{'id': 2, 'description': 'Single-player'}, {'id': 1, 'description': 'Multi-player'}, {'id': 36, 'description': 'Online Multi-Player'}, {'id': 37, 'description': 'Local Multi-Player'}, {'id': 24, 'description': 'Shared/Split Screen'}, {'id': 22, 'description': 'Steam Achievements'}, {'id': 18, 'description': 'Partial Controller Support'}, {'id': 23, 'description': 'Steam Cloud'}, {'id': 17, 'description': 'Includes level editor'}]       1\n",
       "Name: categories, Length: 3483, dtype: int64"
      ]
     },
     "execution_count": 43,
     "metadata": {},
     "output_type": "execute_result"
    }
   ],
   "source": [
    "merged['categories'].value_counts()"
   ]
  },
  {
   "cell_type": "code",
   "execution_count": 47,
   "metadata": {},
   "outputs": [
    {
     "data": {
      "text/plain": [
       "1790     [{'id': 2, 'description': 'Single-player'}, {'...\n",
       "646            [{'id': 2, 'description': 'Single-player'}]\n",
       "9286     [{'id': 2, 'description': 'Single-player'}, {'...\n",
       "19       [{'id': 1, 'description': 'Multi-player'}, {'i...\n",
       "26910    [{'id': 2, 'description': 'Single-player'}, {'...\n",
       "Name: categories, dtype: object"
      ]
     },
     "execution_count": 47,
     "metadata": {},
     "output_type": "execute_result"
    }
   ],
   "source": [
    "#https://pandas.pydata.org/pandas-docs/stable/reference/api/pandas.DataFrame.sample.html\n",
    "merged['categories'].sample(5, random_state=5)"
   ]
  },
  {
   "cell_type": "code",
   "execution_count": 50,
   "metadata": {},
   "outputs": [
    {
     "data": {
      "text/html": [
       "<div>\n",
       "<style scoped>\n",
       "    .dataframe tbody tr th:only-of-type {\n",
       "        vertical-align: middle;\n",
       "    }\n",
       "\n",
       "    .dataframe tbody tr th {\n",
       "        vertical-align: top;\n",
       "    }\n",
       "\n",
       "    .dataframe thead th {\n",
       "        text-align: right;\n",
       "    }\n",
       "</style>\n",
       "<table border=\"1\" class=\"dataframe\">\n",
       "  <thead>\n",
       "    <tr style=\"text-align: right;\">\n",
       "      <th></th>\n",
       "      <th>name</th>\n",
       "      <th>appid</th>\n",
       "      <th>required_age</th>\n",
       "      <th>is_free</th>\n",
       "      <th>detailed_description</th>\n",
       "      <th>about_the_game</th>\n",
       "      <th>short_description</th>\n",
       "      <th>pc_requirements</th>\n",
       "      <th>mac_requirements</th>\n",
       "      <th>linux_requirements</th>\n",
       "      <th>...</th>\n",
       "      <th>avg_2_weeks</th>\n",
       "      <th>median_forever</th>\n",
       "      <th>median_2weeks</th>\n",
       "      <th>price</th>\n",
       "      <th>initialprice</th>\n",
       "      <th>discount</th>\n",
       "      <th>languages</th>\n",
       "      <th>genre</th>\n",
       "      <th>ccu</th>\n",
       "      <th>tags</th>\n",
       "    </tr>\n",
       "  </thead>\n",
       "  <tbody>\n",
       "    <tr>\n",
       "      <th>8444</th>\n",
       "      <td>Aseprite</td>\n",
       "      <td>431730</td>\n",
       "      <td>0</td>\n",
       "      <td>False</td>\n",
       "      <td>Aseprite is a pixel art tool that lets you cre...</td>\n",
       "      <td>Aseprite is a pixel art tool that lets you cre...</td>\n",
       "      <td>Aseprite is a pixel-art tool to create 2D anim...</td>\n",
       "      <td>{'minimum': '&lt;strong&gt;Minimum:&lt;/strong&gt;&lt;br&gt;&lt;ul ...</td>\n",
       "      <td>{'minimum': '&lt;strong&gt;Minimum:&lt;/strong&gt;&lt;br&gt;&lt;ul ...</td>\n",
       "      <td>{'minimum': '&lt;strong&gt;Minimum:&lt;/strong&gt;&lt;br&gt;&lt;ul ...</td>\n",
       "      <td>...</td>\n",
       "      <td>0</td>\n",
       "      <td>4256</td>\n",
       "      <td>0</td>\n",
       "      <td>1499.0</td>\n",
       "      <td>1499.0</td>\n",
       "      <td>0.0</td>\n",
       "      <td>English</td>\n",
       "      <td>Animation &amp; Modeling, Design &amp; Illustration, G...</td>\n",
       "      <td>798</td>\n",
       "      <td>{'Pixel Graphics': 52, 'Design &amp; Illustration'...</td>\n",
       "    </tr>\n",
       "    <tr>\n",
       "      <th>17682</th>\n",
       "      <td>Grid Cartographer 4</td>\n",
       "      <td>684690</td>\n",
       "      <td>0</td>\n",
       "      <td>False</td>\n",
       "      <td>Grid Cartographer 4 is a powerful map creation...</td>\n",
       "      <td>Grid Cartographer 4 is a powerful map creation...</td>\n",
       "      <td>Grid Cartographer 4 is an intuitive map creati...</td>\n",
       "      <td>{'minimum': '&lt;strong&gt;Minimum:&lt;/strong&gt;&lt;br&gt;&lt;ul ...</td>\n",
       "      <td>{'minimum': '&lt;strong&gt;Minimum:&lt;/strong&gt;&lt;br&gt;&lt;ul ...</td>\n",
       "      <td>{'minimum': '&lt;strong&gt;Minimum:&lt;/strong&gt;&lt;br&gt;&lt;ul ...</td>\n",
       "      <td>...</td>\n",
       "      <td>0</td>\n",
       "      <td>0</td>\n",
       "      <td>0</td>\n",
       "      <td>4999.0</td>\n",
       "      <td>4999.0</td>\n",
       "      <td>0.0</td>\n",
       "      <td>English</td>\n",
       "      <td>Design &amp; Illustration</td>\n",
       "      <td>0</td>\n",
       "      <td>{'Design &amp; Illustration': 24, 'Dungeon Crawler...</td>\n",
       "    </tr>\n",
       "    <tr>\n",
       "      <th>8799</th>\n",
       "      <td>VirtualHere For Steam Link</td>\n",
       "      <td>440520</td>\n",
       "      <td>0</td>\n",
       "      <td>False</td>\n",
       "      <td>VirtualHere allows you to use the XBox One Wir...</td>\n",
       "      <td>VirtualHere allows you to use the XBox One Wir...</td>\n",
       "      <td>Add support for XBox One wireless, steering wh...</td>\n",
       "      <td>{'minimum': '&lt;strong&gt;Minimum:&lt;/strong&gt;&lt;br&gt;&lt;ul ...</td>\n",
       "      <td>{'minimum': '&lt;strong&gt;Minimum:&lt;/strong&gt;&lt;br&gt;&lt;ul ...</td>\n",
       "      <td>{'minimum': '&lt;strong&gt;Minimum:&lt;/strong&gt;&lt;br&gt;&lt;ul ...</td>\n",
       "      <td>...</td>\n",
       "      <td>0</td>\n",
       "      <td>22</td>\n",
       "      <td>0</td>\n",
       "      <td>1399.0</td>\n",
       "      <td>1399.0</td>\n",
       "      <td>0.0</td>\n",
       "      <td>English</td>\n",
       "      <td>Utilities</td>\n",
       "      <td>13</td>\n",
       "      <td>{'Utilities': 22}</td>\n",
       "    </tr>\n",
       "    <tr>\n",
       "      <th>15668</th>\n",
       "      <td>Soundpad</td>\n",
       "      <td>629520</td>\n",
       "      <td>0</td>\n",
       "      <td>False</td>\n",
       "      <td>Play sounds in voice chats in high digital qua...</td>\n",
       "      <td>Play sounds in voice chats in high digital qua...</td>\n",
       "      <td>Play sounds in voice chats in high digital qua...</td>\n",
       "      <td>{'minimum': '&lt;strong&gt;Minimum:&lt;/strong&gt;&lt;br&gt;&lt;ul ...</td>\n",
       "      <td>[]</td>\n",
       "      <td>[]</td>\n",
       "      <td>...</td>\n",
       "      <td>3425</td>\n",
       "      <td>17405</td>\n",
       "      <td>3425</td>\n",
       "      <td>499.0</td>\n",
       "      <td>499.0</td>\n",
       "      <td>0.0</td>\n",
       "      <td>English, German, French, Korean, Portuguese - ...</td>\n",
       "      <td>Audio Production, Utilities</td>\n",
       "      <td>1653</td>\n",
       "      <td>{'Utilities': 29, 'Audio Production': 25}</td>\n",
       "    </tr>\n",
       "    <tr>\n",
       "      <th>13616</th>\n",
       "      <td>Craftmas</td>\n",
       "      <td>572350</td>\n",
       "      <td>0</td>\n",
       "      <td>False</td>\n",
       "      <td>Craftmas is a virtual winter wonderland where ...</td>\n",
       "      <td>Craftmas is a virtual winter wonderland where ...</td>\n",
       "      <td>Create colorful 3D ornaments and decorate your...</td>\n",
       "      <td>{'minimum': '&lt;strong&gt;Minimum:&lt;/strong&gt;&lt;br&gt;&lt;ul ...</td>\n",
       "      <td>[]</td>\n",
       "      <td>[]</td>\n",
       "      <td>...</td>\n",
       "      <td>0</td>\n",
       "      <td>0</td>\n",
       "      <td>0</td>\n",
       "      <td>499.0</td>\n",
       "      <td>499.0</td>\n",
       "      <td>0.0</td>\n",
       "      <td>English</td>\n",
       "      <td>Design &amp; Illustration, Early Access</td>\n",
       "      <td>0</td>\n",
       "      <td>{'Early Access': 21, 'Design &amp; Illustration': 21}</td>\n",
       "    </tr>\n",
       "  </tbody>\n",
       "</table>\n",
       "<p>5 rows × 31 columns</p>\n",
       "</div>"
      ],
      "text/plain": [
       "                             name   appid required_age  is_free  \\\n",
       "8444                     Aseprite  431730            0    False   \n",
       "17682         Grid Cartographer 4  684690            0    False   \n",
       "8799   VirtualHere For Steam Link  440520            0    False   \n",
       "15668                    Soundpad  629520            0    False   \n",
       "13616                    Craftmas  572350            0    False   \n",
       "\n",
       "                                    detailed_description  \\\n",
       "8444   Aseprite is a pixel art tool that lets you cre...   \n",
       "17682  Grid Cartographer 4 is a powerful map creation...   \n",
       "8799   VirtualHere allows you to use the XBox One Wir...   \n",
       "15668  Play sounds in voice chats in high digital qua...   \n",
       "13616  Craftmas is a virtual winter wonderland where ...   \n",
       "\n",
       "                                          about_the_game  \\\n",
       "8444   Aseprite is a pixel art tool that lets you cre...   \n",
       "17682  Grid Cartographer 4 is a powerful map creation...   \n",
       "8799   VirtualHere allows you to use the XBox One Wir...   \n",
       "15668  Play sounds in voice chats in high digital qua...   \n",
       "13616  Craftmas is a virtual winter wonderland where ...   \n",
       "\n",
       "                                       short_description  \\\n",
       "8444   Aseprite is a pixel-art tool to create 2D anim...   \n",
       "17682  Grid Cartographer 4 is an intuitive map creati...   \n",
       "8799   Add support for XBox One wireless, steering wh...   \n",
       "15668  Play sounds in voice chats in high digital qua...   \n",
       "13616  Create colorful 3D ornaments and decorate your...   \n",
       "\n",
       "                                         pc_requirements  \\\n",
       "8444   {'minimum': '<strong>Minimum:</strong><br><ul ...   \n",
       "17682  {'minimum': '<strong>Minimum:</strong><br><ul ...   \n",
       "8799   {'minimum': '<strong>Minimum:</strong><br><ul ...   \n",
       "15668  {'minimum': '<strong>Minimum:</strong><br><ul ...   \n",
       "13616  {'minimum': '<strong>Minimum:</strong><br><ul ...   \n",
       "\n",
       "                                        mac_requirements  \\\n",
       "8444   {'minimum': '<strong>Minimum:</strong><br><ul ...   \n",
       "17682  {'minimum': '<strong>Minimum:</strong><br><ul ...   \n",
       "8799   {'minimum': '<strong>Minimum:</strong><br><ul ...   \n",
       "15668                                                 []   \n",
       "13616                                                 []   \n",
       "\n",
       "                                      linux_requirements  ... avg_2_weeks  \\\n",
       "8444   {'minimum': '<strong>Minimum:</strong><br><ul ...  ...           0   \n",
       "17682  {'minimum': '<strong>Minimum:</strong><br><ul ...  ...           0   \n",
       "8799   {'minimum': '<strong>Minimum:</strong><br><ul ...  ...           0   \n",
       "15668                                                 []  ...        3425   \n",
       "13616                                                 []  ...           0   \n",
       "\n",
       "      median_forever median_2weeks   price initialprice discount  \\\n",
       "8444            4256             0  1499.0       1499.0      0.0   \n",
       "17682              0             0  4999.0       4999.0      0.0   \n",
       "8799              22             0  1399.0       1399.0      0.0   \n",
       "15668          17405          3425   499.0        499.0      0.0   \n",
       "13616              0             0   499.0        499.0      0.0   \n",
       "\n",
       "                                               languages  \\\n",
       "8444                                             English   \n",
       "17682                                            English   \n",
       "8799                                             English   \n",
       "15668  English, German, French, Korean, Portuguese - ...   \n",
       "13616                                            English   \n",
       "\n",
       "                                                   genre   ccu  \\\n",
       "8444   Animation & Modeling, Design & Illustration, G...   798   \n",
       "17682                              Design & Illustration     0   \n",
       "8799                                           Utilities    13   \n",
       "15668                        Audio Production, Utilities  1653   \n",
       "13616                Design & Illustration, Early Access     0   \n",
       "\n",
       "                                                    tags  \n",
       "8444   {'Pixel Graphics': 52, 'Design & Illustration'...  \n",
       "17682  {'Design & Illustration': 24, 'Dungeon Crawler...  \n",
       "8799                                   {'Utilities': 22}  \n",
       "15668          {'Utilities': 29, 'Audio Production': 25}  \n",
       "13616  {'Early Access': 21, 'Design & Illustration': 21}  \n",
       "\n",
       "[5 rows x 31 columns]"
      ]
     },
     "execution_count": 50,
     "metadata": {},
     "output_type": "execute_result"
    }
   ],
   "source": [
    "merged[merged['categories'].isnull()].sample(5, random_state=5)"
   ]
  },
  {
   "cell_type": "code",
   "execution_count": 51,
   "metadata": {},
   "outputs": [],
   "source": [
    "merged.dropna(subset=['categories'], inplace=True)  "
   ]
  },
  {
   "cell_type": "code",
   "execution_count": 59,
   "metadata": {},
   "outputs": [
    {
     "data": {
      "text/plain": [
       "name                     0\n",
       "appid                    0\n",
       "required_age             0\n",
       "is_free                  0\n",
       "detailed_description    15\n",
       "about_the_game          15\n",
       "short_description       15\n",
       "pc_requirements          0\n",
       "mac_requirements         0\n",
       "linux_requirements       0\n",
       "publisher                0\n",
       "package_groups           0\n",
       "platforms                0\n",
       "categories               0\n",
       "release_date             0\n",
       "developer               90\n",
       "positive                 0\n",
       "negative                 0\n",
       "userscore                0\n",
       "owners                   0\n",
       "avg_forever              0\n",
       "avg_2_weeks              0\n",
       "median_forever           0\n",
       "median_2weeks            0\n",
       "price                    0\n",
       "initialprice             0\n",
       "discount                 0\n",
       "languages                2\n",
       "genre                    0\n",
       "ccu                      0\n",
       "tags                     0\n",
       "dtype: int64"
      ]
     },
     "execution_count": 59,
     "metadata": {},
     "output_type": "execute_result"
    }
   ],
   "source": [
    "merged.isnull().sum()"
   ]
  },
  {
   "cell_type": "code",
   "execution_count": 37,
   "metadata": {},
   "outputs": [
    {
     "data": {
      "text/plain": [
       "0    [{'name': 'default', 'title': 'Buy Counter-Str...\n",
       "1    [{'name': 'default', 'title': 'Buy Team Fortre...\n",
       "2    [{'name': 'default', 'title': 'Buy Day of Defe...\n",
       "3    [{'name': 'default', 'title': 'Buy Deathmatch ...\n",
       "4    [{'name': 'default', 'title': 'Buy Half-Life: ...\n",
       "Name: package_groups, dtype: object"
      ]
     },
     "execution_count": 37,
     "metadata": {},
     "output_type": "execute_result"
    }
   ],
   "source": [
    "merged['package_groups'].head()"
   ]
  },
  {
   "cell_type": "markdown",
   "metadata": {},
   "source": [
    "### Puplisher"
   ]
  },
  {
   "cell_type": "code",
   "execution_count": 61,
   "metadata": {},
   "outputs": [
    {
     "data": {
      "text/plain": [
       "['Big Fish Games']        231\n",
       "['']                      210\n",
       "['Strategy First']        137\n",
       "['Ubisoft']               115\n",
       "['Square Enix']           104\n",
       "                         ... \n",
       "['RaveyLarge']              1\n",
       "['Candescent Games']        1\n",
       "['WeRVR Studio']            1\n",
       "['NeutronStar.studio']      1\n",
       "['Ambiera e.U.']            1\n",
       "Name: publisher, Length: 14949, dtype: int64"
      ]
     },
     "execution_count": 61,
     "metadata": {},
     "output_type": "execute_result"
    }
   ],
   "source": [
    "merged['publisher'].value_counts()"
   ]
  },
  {
   "cell_type": "code",
   "execution_count": 74,
   "metadata": {},
   "outputs": [
    {
     "data": {
      "text/html": [
       "<div>\n",
       "<style scoped>\n",
       "    .dataframe tbody tr th:only-of-type {\n",
       "        vertical-align: middle;\n",
       "    }\n",
       "\n",
       "    .dataframe tbody tr th {\n",
       "        vertical-align: top;\n",
       "    }\n",
       "\n",
       "    .dataframe thead th {\n",
       "        text-align: right;\n",
       "    }\n",
       "</style>\n",
       "<table border=\"1\" class=\"dataframe\">\n",
       "  <thead>\n",
       "    <tr style=\"text-align: right;\">\n",
       "      <th></th>\n",
       "      <th>developer</th>\n",
       "      <th>publisher</th>\n",
       "    </tr>\n",
       "  </thead>\n",
       "  <tbody>\n",
       "    <tr>\n",
       "      <th>41</th>\n",
       "      <td>Arkane Studios</td>\n",
       "      <td>['Arkane Studios']</td>\n",
       "    </tr>\n",
       "    <tr>\n",
       "      <th>42</th>\n",
       "      <td>Valve</td>\n",
       "      <td>['Valve']</td>\n",
       "    </tr>\n",
       "    <tr>\n",
       "      <th>43</th>\n",
       "      <td>Reality Pump Studios</td>\n",
       "      <td>['Topware Interactive', 'ACE']</td>\n",
       "    </tr>\n",
       "    <tr>\n",
       "      <th>44</th>\n",
       "      <td>Reality Pump Studios</td>\n",
       "      <td>['Topware Interactive']</td>\n",
       "    </tr>\n",
       "    <tr>\n",
       "      <th>45</th>\n",
       "      <td>Arkane Studios</td>\n",
       "      <td>['Ubisoft']</td>\n",
       "    </tr>\n",
       "    <tr>\n",
       "      <th>46</th>\n",
       "      <td>id Software</td>\n",
       "      <td>['id Software']</td>\n",
       "    </tr>\n",
       "    <tr>\n",
       "      <th>47</th>\n",
       "      <td>RavenSoft / id Software</td>\n",
       "      <td>['Bethesda Softworks']</td>\n",
       "    </tr>\n",
       "    <tr>\n",
       "      <th>48</th>\n",
       "      <td>id Software</td>\n",
       "      <td>['Bethesda-Softworks']</td>\n",
       "    </tr>\n",
       "    <tr>\n",
       "      <th>49</th>\n",
       "      <td>id Software</td>\n",
       "      <td>['id Software']</td>\n",
       "    </tr>\n",
       "    <tr>\n",
       "      <th>50</th>\n",
       "      <td>id Software</td>\n",
       "      <td>['id Software']</td>\n",
       "    </tr>\n",
       "  </tbody>\n",
       "</table>\n",
       "</div>"
      ],
      "text/plain": [
       "                  developer                       publisher\n",
       "41           Arkane Studios              ['Arkane Studios']\n",
       "42                    Valve                       ['Valve']\n",
       "43     Reality Pump Studios  ['Topware Interactive', 'ACE']\n",
       "44     Reality Pump Studios         ['Topware Interactive']\n",
       "45           Arkane Studios                     ['Ubisoft']\n",
       "46              id Software                 ['id Software']\n",
       "47  RavenSoft / id Software          ['Bethesda Softworks']\n",
       "48              id Software          ['Bethesda-Softworks']\n",
       "49              id Software                 ['id Software']\n",
       "50              id Software                 ['id Software']"
      ]
     },
     "execution_count": 74,
     "metadata": {},
     "output_type": "execute_result"
    }
   ],
   "source": [
    "merged[['developer', 'publisher']].iloc[40:50]"
   ]
  },
  {
   "cell_type": "code",
   "execution_count": 77,
   "metadata": {},
   "outputs": [],
   "source": [
    "merged.dropna(subset=['developer'], inplace=True)  "
   ]
  },
  {
   "cell_type": "code",
   "execution_count": 79,
   "metadata": {},
   "outputs": [],
   "source": [
    "merged.dropna(subset=['languages'], inplace=True)  "
   ]
  },
  {
   "cell_type": "code",
   "execution_count": 80,
   "metadata": {},
   "outputs": [
    {
     "data": {
      "text/plain": [
       "name                     0\n",
       "appid                    0\n",
       "required_age             0\n",
       "is_free                  0\n",
       "detailed_description    14\n",
       "about_the_game          14\n",
       "short_description       14\n",
       "pc_requirements          0\n",
       "mac_requirements         0\n",
       "linux_requirements       0\n",
       "publisher                0\n",
       "package_groups           0\n",
       "platforms                0\n",
       "categories               0\n",
       "release_date             0\n",
       "developer                0\n",
       "positive                 0\n",
       "negative                 0\n",
       "userscore                0\n",
       "owners                   0\n",
       "avg_forever              0\n",
       "avg_2_weeks              0\n",
       "median_forever           0\n",
       "median_2weeks            0\n",
       "price                    0\n",
       "initialprice             0\n",
       "discount                 0\n",
       "languages                0\n",
       "genre                    0\n",
       "ccu                      0\n",
       "tags                     0\n",
       "dtype: int64"
      ]
     },
     "execution_count": 80,
     "metadata": {},
     "output_type": "execute_result"
    }
   ],
   "source": [
    "merged.isnull().sum()"
   ]
  },
  {
   "cell_type": "code",
   "execution_count": 82,
   "metadata": {},
   "outputs": [],
   "source": [
    "merged.to_csv('merged_stage2.csv', index=False)"
   ]
  },
  {
   "cell_type": "markdown",
   "metadata": {
    "jupyter": {
     "source_hidden": true
    }
   },
   "source": []
  },
  {
   "cell_type": "code",
   "execution_count": null,
   "metadata": {},
   "outputs": [],
   "source": [
    "# Dropping collumns with more than 20% null values\n",
    "df_app.drop(columns=['controller_support', 'dlc', 'fullgame', 'legal_notice', 'drm_notice', 'demos', 'metacritic', 'reviews', 'recommendations'], inplace=True)"
   ]
  },
  {
   "cell_type": "code",
   "execution_count": null,
   "metadata": {},
   "outputs": [],
   "source": [
    "# Dropping columns that are not needed\n",
    "df_app.drop(columns=['header_image', 'website', 'ext_user_account_notice', 'screenshots', 'movies', 'support_info', 'content_descriptors', 'background'], inplace=True)"
   ]
  },
  {
   "cell_type": "code",
   "execution_count": null,
   "metadata": {},
   "outputs": [],
   "source": [
    "df_app['type'].value_counts()"
   ]
  },
  {
   "cell_type": "code",
   "execution_count": null,
   "metadata": {},
   "outputs": [],
   "source": [
    "df_app['is_free'].value_counts()"
   ]
  },
  {
   "cell_type": "code",
   "execution_count": null,
   "metadata": {},
   "outputs": [],
   "source": [
    "df_app['required_age'].value_counts()"
   ]
  },
  {
   "cell_type": "code",
   "execution_count": null,
   "metadata": {},
   "outputs": [],
   "source": [
    "df_app.drop(columns=['type', 'is_free', 'required_age', 'supported_languages'],inplace=True)"
   ]
  },
  {
   "cell_type": "code",
   "execution_count": null,
   "metadata": {},
   "outputs": [],
   "source": [
    "df_app.head()"
   ]
  },
  {
   "cell_type": "code",
   "execution_count": null,
   "metadata": {},
   "outputs": [],
   "source": [
    "df_app.isnull().sum()"
   ]
  },
  {
   "cell_type": "code",
   "execution_count": null,
   "metadata": {},
   "outputs": [],
   "source": [
    "df_app.to_csv('steam_app.csv', index=False)"
   ]
  },
  {
   "cell_type": "markdown",
   "metadata": {},
   "source": [
    "### CLEANING steam"
   ]
  },
  {
   "cell_type": "code",
   "execution_count": null,
   "metadata": {},
   "outputs": [],
   "source": [
    "df2 = pd.read_csv('./data/steam.csv')"
   ]
  },
  {
   "cell_type": "code",
   "execution_count": null,
   "metadata": {},
   "outputs": [],
   "source": [
    "df2.head()"
   ]
  },
  {
   "cell_type": "code",
   "execution_count": null,
   "metadata": {},
   "outputs": [],
   "source": [
    "df2.isnull().sum()"
   ]
  },
  {
   "cell_type": "code",
   "execution_count": null,
   "metadata": {},
   "outputs": [],
   "source": [
    "df2.shape"
   ]
  },
  {
   "cell_type": "markdown",
   "metadata": {},
   "source": [
    "### CLEANING steamspy_data"
   ]
  },
  {
   "cell_type": "code",
   "execution_count": null,
   "metadata": {},
   "outputs": [],
   "source": [
    "df3 = pd.read_csv('./data/steamspy_data.csv')"
   ]
  },
  {
   "cell_type": "code",
   "execution_count": null,
   "metadata": {},
   "outputs": [],
   "source": [
    "df3.head()"
   ]
  },
  {
   "cell_type": "code",
   "execution_count": null,
   "metadata": {},
   "outputs": [],
   "source": [
    "df3.shape"
   ]
  },
  {
   "cell_type": "code",
   "execution_count": null,
   "metadata": {},
   "outputs": [],
   "source": [
    "df3.isnull().sum()"
   ]
  },
  {
   "cell_type": "code",
   "execution_count": null,
   "metadata": {},
   "outputs": [],
   "source": [
    "df3 = df3.drop(columns='score_rank')"
   ]
  },
  {
   "cell_type": "code",
   "execution_count": null,
   "metadata": {},
   "outputs": [],
   "source": [
    "df3.to_csv('steamspy.csv', index=False)"
   ]
  },
  {
   "cell_type": "markdown",
   "metadata": {},
   "source": [
    "### CLEANING MC15"
   ]
  },
  {
   "cell_type": "code",
   "execution_count": null,
   "metadata": {},
   "outputs": [],
   "source": [
    "mc = pd.read_csv('./data/mc.csv')"
   ]
  },
  {
   "cell_type": "code",
   "execution_count": null,
   "metadata": {},
   "outputs": [],
   "source": [
    "mc.head()"
   ]
  },
  {
   "cell_type": "code",
   "execution_count": null,
   "metadata": {},
   "outputs": [],
   "source": [
    "mc.shape"
   ]
  },
  {
   "cell_type": "code",
   "execution_count": null,
   "metadata": {},
   "outputs": [],
   "source": [
    "mc.isnull().sum()"
   ]
  },
  {
   "cell_type": "code",
   "execution_count": null,
   "metadata": {},
   "outputs": [],
   "source": [
    "mc.to_csv('meta_critic.csv', index=False)"
   ]
  },
  {
   "cell_type": "markdown",
   "metadata": {},
   "source": [
    "### CLEANING 200K"
   ]
  }
 ],
 "metadata": {
  "kernelspec": {
   "display_name": "Python 3",
   "language": "python",
   "name": "python3"
  },
  "language_info": {
   "codemirror_mode": {
    "name": "ipython",
    "version": 3
   },
   "file_extension": ".py",
   "mimetype": "text/x-python",
   "name": "python",
   "nbconvert_exporter": "python",
   "pygments_lexer": "ipython3",
   "version": "3.8.3"
  }
 },
 "nbformat": 4,
 "nbformat_minor": 4
}
